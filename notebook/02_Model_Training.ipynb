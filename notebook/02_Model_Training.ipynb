{
 "cells": [
  {
   "cell_type": "markdown",
   "id": "92e48866",
   "metadata": {},
   "source": [
    "## Model Training"
   ]
  },
  {
   "cell_type": "markdown",
   "id": "25791a74",
   "metadata": {},
   "source": [
    "#### 1.1 Importing Required Packages"
   ]
  },
  {
   "cell_type": "code",
   "execution_count": 1,
   "id": "b080dfb2",
   "metadata": {},
   "outputs": [],
   "source": [
    "# Basic Import\n",
    "import numpy as np\n",
    "import pandas as pd\n",
    "import matplotlib.pyplot as plt \n",
    "import seaborn as sns\n",
    "# Modelling\n",
    "from sklearn.metrics import mean_squared_error, r2_score\n",
    "from sklearn.neighbors import KNeighborsRegressor\n",
    "from sklearn.tree import DecisionTreeRegressor\n",
    "from sklearn.ensemble import RandomForestRegressor,AdaBoostRegressor\n",
    "from sklearn.svm import SVR\n",
    "from sklearn.linear_model import LinearRegression, Ridge,Lasso\n",
    "from sklearn.metrics import r2_score, mean_absolute_error, mean_squared_error\n",
    "from sklearn.model_selection import RandomizedSearchCV\n",
    "from catboost import CatBoostRegressor\n",
    "from xgboost import XGBRegressor\n",
    "import warnings"
   ]
  },
  {
   "cell_type": "code",
   "execution_count": 2,
   "id": "0486146c",
   "metadata": {},
   "outputs": [],
   "source": [
    "warnings.filterwarnings(\"ignore\")"
   ]
  },
  {
   "cell_type": "markdown",
   "id": "e45079ad",
   "metadata": {},
   "source": [
    "#### 1.2 Import the CSV Data as Pandas DataFrame"
   ]
  },
  {
   "cell_type": "code",
   "execution_count": 3,
   "id": "e11c6255",
   "metadata": {},
   "outputs": [],
   "source": [
    "df = pd.read_csv('preprocessed.csv')"
   ]
  },
  {
   "cell_type": "code",
   "execution_count": 4,
   "id": "e7e412a2",
   "metadata": {},
   "outputs": [
    {
     "data": {
      "text/html": [
       "<div>\n",
       "<style scoped>\n",
       "    .dataframe tbody tr th:only-of-type {\n",
       "        vertical-align: middle;\n",
       "    }\n",
       "\n",
       "    .dataframe tbody tr th {\n",
       "        vertical-align: top;\n",
       "    }\n",
       "\n",
       "    .dataframe thead th {\n",
       "        text-align: right;\n",
       "    }\n",
       "</style>\n",
       "<table border=\"1\" class=\"dataframe\">\n",
       "  <thead>\n",
       "    <tr style=\"text-align: right;\">\n",
       "      <th></th>\n",
       "      <th>Area</th>\n",
       "      <th>Year</th>\n",
       "      <th>Savanna fires</th>\n",
       "      <th>Forest fires</th>\n",
       "      <th>Crop Residues</th>\n",
       "      <th>Rice Cultivation</th>\n",
       "      <th>Drained organic soils (CO2)</th>\n",
       "      <th>Pesticides Manufacturing</th>\n",
       "      <th>Food Transport</th>\n",
       "      <th>Forestland</th>\n",
       "      <th>...</th>\n",
       "      <th>Food Processing</th>\n",
       "      <th>Fertilizers Manufacturing</th>\n",
       "      <th>Manure applied to Soils</th>\n",
       "      <th>Manure left on Pasture</th>\n",
       "      <th>Fires in organic soils</th>\n",
       "      <th>Fires in humid tropical forests</th>\n",
       "      <th>On-farm energy use</th>\n",
       "      <th>Rural population</th>\n",
       "      <th>Urban population</th>\n",
       "      <th>total_emission</th>\n",
       "    </tr>\n",
       "  </thead>\n",
       "  <tbody>\n",
       "    <tr>\n",
       "      <th>0</th>\n",
       "      <td>0.0</td>\n",
       "      <td>0.0</td>\n",
       "      <td>-0.254797</td>\n",
       "      <td>-0.306622</td>\n",
       "      <td>-0.285925</td>\n",
       "      <td>-0.260913</td>\n",
       "      <td>-0.266287</td>\n",
       "      <td>-0.282670</td>\n",
       "      <td>-0.396609</td>\n",
       "      <td>0.265576</td>\n",
       "      <td>...</td>\n",
       "      <td>-0.23004</td>\n",
       "      <td>-0.234906</td>\n",
       "      <td>-0.279588</td>\n",
       "      <td>-0.377470</td>\n",
       "      <td>-0.067985</td>\n",
       "      <td>-0.251936</td>\n",
       "      <td>-0.255666</td>\n",
       "      <td>-0.226930</td>\n",
       "      <td>-0.298854</td>\n",
       "      <td>3475.291240</td>\n",
       "    </tr>\n",
       "    <tr>\n",
       "      <th>1</th>\n",
       "      <td>0.0</td>\n",
       "      <td>1.0</td>\n",
       "      <td>-0.254797</td>\n",
       "      <td>-0.306622</td>\n",
       "      <td>-0.292522</td>\n",
       "      <td>-0.261686</td>\n",
       "      <td>-0.266287</td>\n",
       "      <td>-0.282670</td>\n",
       "      <td>-0.396467</td>\n",
       "      <td>0.265576</td>\n",
       "      <td>...</td>\n",
       "      <td>-0.23004</td>\n",
       "      <td>-0.063810</td>\n",
       "      <td>-0.280236</td>\n",
       "      <td>-0.376526</td>\n",
       "      <td>-0.067985</td>\n",
       "      <td>-0.251936</td>\n",
       "      <td>-0.264102</td>\n",
       "      <td>-0.227042</td>\n",
       "      <td>-0.298773</td>\n",
       "      <td>5680.135772</td>\n",
       "    </tr>\n",
       "    <tr>\n",
       "      <th>2</th>\n",
       "      <td>0.0</td>\n",
       "      <td>2.0</td>\n",
       "      <td>-0.254797</td>\n",
       "      <td>-0.306622</td>\n",
       "      <td>-0.292884</td>\n",
       "      <td>-0.261882</td>\n",
       "      <td>-0.266287</td>\n",
       "      <td>-0.282670</td>\n",
       "      <td>-0.397534</td>\n",
       "      <td>0.265576</td>\n",
       "      <td>...</td>\n",
       "      <td>-0.23004</td>\n",
       "      <td>-0.063810</td>\n",
       "      <td>-0.282028</td>\n",
       "      <td>-0.376001</td>\n",
       "      <td>-0.067985</td>\n",
       "      <td>-0.251936</td>\n",
       "      <td>-0.266254</td>\n",
       "      <td>-0.227395</td>\n",
       "      <td>-0.298713</td>\n",
       "      <td>5221.131572</td>\n",
       "    </tr>\n",
       "    <tr>\n",
       "      <th>3</th>\n",
       "      <td>0.0</td>\n",
       "      <td>3.0</td>\n",
       "      <td>-0.254797</td>\n",
       "      <td>-0.306622</td>\n",
       "      <td>-0.289531</td>\n",
       "      <td>-0.261917</td>\n",
       "      <td>-0.266287</td>\n",
       "      <td>-0.282670</td>\n",
       "      <td>-0.395072</td>\n",
       "      <td>0.265576</td>\n",
       "      <td>...</td>\n",
       "      <td>-0.23004</td>\n",
       "      <td>-0.063810</td>\n",
       "      <td>-0.279018</td>\n",
       "      <td>-0.373688</td>\n",
       "      <td>-0.067985</td>\n",
       "      <td>-0.251936</td>\n",
       "      <td>-0.268689</td>\n",
       "      <td>-0.227833</td>\n",
       "      <td>-0.298730</td>\n",
       "      <td>5316.973272</td>\n",
       "    </tr>\n",
       "    <tr>\n",
       "      <th>4</th>\n",
       "      <td>0.0</td>\n",
       "      <td>4.0</td>\n",
       "      <td>-0.254797</td>\n",
       "      <td>-0.306622</td>\n",
       "      <td>-0.289918</td>\n",
       "      <td>-0.261967</td>\n",
       "      <td>-0.266287</td>\n",
       "      <td>-0.282116</td>\n",
       "      <td>-0.392951</td>\n",
       "      <td>0.265576</td>\n",
       "      <td>...</td>\n",
       "      <td>-0.23004</td>\n",
       "      <td>-0.063810</td>\n",
       "      <td>-0.262831</td>\n",
       "      <td>-0.363198</td>\n",
       "      <td>-0.067985</td>\n",
       "      <td>-0.251936</td>\n",
       "      <td>-0.270830</td>\n",
       "      <td>-0.228257</td>\n",
       "      <td>-0.298743</td>\n",
       "      <td>5564.287672</td>\n",
       "    </tr>\n",
       "  </tbody>\n",
       "</table>\n",
       "<p>5 rows × 26 columns</p>\n",
       "</div>"
      ],
      "text/plain": [
       "   Area  Year  Savanna fires  Forest fires  Crop Residues  Rice Cultivation  \\\n",
       "0   0.0   0.0      -0.254797     -0.306622      -0.285925         -0.260913   \n",
       "1   0.0   1.0      -0.254797     -0.306622      -0.292522         -0.261686   \n",
       "2   0.0   2.0      -0.254797     -0.306622      -0.292884         -0.261882   \n",
       "3   0.0   3.0      -0.254797     -0.306622      -0.289531         -0.261917   \n",
       "4   0.0   4.0      -0.254797     -0.306622      -0.289918         -0.261967   \n",
       "\n",
       "   Drained organic soils (CO2)  Pesticides Manufacturing  Food Transport  \\\n",
       "0                    -0.266287                 -0.282670       -0.396609   \n",
       "1                    -0.266287                 -0.282670       -0.396467   \n",
       "2                    -0.266287                 -0.282670       -0.397534   \n",
       "3                    -0.266287                 -0.282670       -0.395072   \n",
       "4                    -0.266287                 -0.282116       -0.392951   \n",
       "\n",
       "   Forestland  ...  Food Processing  Fertilizers Manufacturing  \\\n",
       "0    0.265576  ...         -0.23004                  -0.234906   \n",
       "1    0.265576  ...         -0.23004                  -0.063810   \n",
       "2    0.265576  ...         -0.23004                  -0.063810   \n",
       "3    0.265576  ...         -0.23004                  -0.063810   \n",
       "4    0.265576  ...         -0.23004                  -0.063810   \n",
       "\n",
       "   Manure applied to Soils  Manure left on Pasture  Fires in organic soils  \\\n",
       "0                -0.279588               -0.377470               -0.067985   \n",
       "1                -0.280236               -0.376526               -0.067985   \n",
       "2                -0.282028               -0.376001               -0.067985   \n",
       "3                -0.279018               -0.373688               -0.067985   \n",
       "4                -0.262831               -0.363198               -0.067985   \n",
       "\n",
       "   Fires in humid tropical forests  On-farm energy use  Rural population  \\\n",
       "0                        -0.251936           -0.255666         -0.226930   \n",
       "1                        -0.251936           -0.264102         -0.227042   \n",
       "2                        -0.251936           -0.266254         -0.227395   \n",
       "3                        -0.251936           -0.268689         -0.227833   \n",
       "4                        -0.251936           -0.270830         -0.228257   \n",
       "\n",
       "   Urban population  total_emission  \n",
       "0         -0.298854     3475.291240  \n",
       "1         -0.298773     5680.135772  \n",
       "2         -0.298713     5221.131572  \n",
       "3         -0.298730     5316.973272  \n",
       "4         -0.298743     5564.287672  \n",
       "\n",
       "[5 rows x 26 columns]"
      ]
     },
     "execution_count": 4,
     "metadata": {},
     "output_type": "execute_result"
    }
   ],
   "source": [
    "df.head()"
   ]
  },
  {
   "cell_type": "markdown",
   "id": "fbd32281",
   "metadata": {},
   "source": [
    "#### 1.3 Preparing X and Y variables"
   ]
  },
  {
   "cell_type": "code",
   "execution_count": 5,
   "id": "56d72fde",
   "metadata": {},
   "outputs": [],
   "source": [
    "X = df.drop('total_emission',axis=1)"
   ]
  },
  {
   "cell_type": "code",
   "execution_count": 6,
   "id": "cd613177",
   "metadata": {},
   "outputs": [
    {
     "data": {
      "text/plain": [
       "(4227, 25)"
      ]
     },
     "execution_count": 6,
     "metadata": {},
     "output_type": "execute_result"
    }
   ],
   "source": [
    "X.shape"
   ]
  },
  {
   "cell_type": "code",
   "execution_count": 7,
   "id": "924b7f9d",
   "metadata": {},
   "outputs": [],
   "source": [
    "y = df.total_emission"
   ]
  },
  {
   "cell_type": "code",
   "execution_count": 8,
   "id": "ffc69816",
   "metadata": {},
   "outputs": [
    {
     "data": {
      "text/plain": [
       "(4227,)"
      ]
     },
     "execution_count": 8,
     "metadata": {},
     "output_type": "execute_result"
    }
   ],
   "source": [
    "y.shape"
   ]
  },
  {
   "cell_type": "markdown",
   "id": "b19be02a",
   "metadata": {},
   "source": [
    "#### 1.4 Train_Test_Split "
   ]
  },
  {
   "cell_type": "code",
   "execution_count": 9,
   "id": "ed5c4e99",
   "metadata": {},
   "outputs": [
    {
     "data": {
      "text/plain": [
       "((3381, 25), (846, 25))"
      ]
     },
     "execution_count": 9,
     "metadata": {},
     "output_type": "execute_result"
    }
   ],
   "source": [
    "from sklearn.model_selection import train_test_split\n",
    "X_train, X_test, y_train, y_test = train_test_split(X,y,test_size=0.2,random_state=42)\n",
    "X_train.shape, X_test.shape"
   ]
  },
  {
   "cell_type": "markdown",
   "id": "4cd80317",
   "metadata": {},
   "source": [
    "#### 1.5 Create an Evaluate Function to give all metrics after model Training"
   ]
  },
  {
   "cell_type": "code",
   "execution_count": 10,
   "id": "8c247bd0",
   "metadata": {},
   "outputs": [],
   "source": [
    "def evaluate_model(true, predicted):\n",
    "    mae = mean_absolute_error(true, predicted)\n",
    "    mse = mean_squared_error(true, predicted)\n",
    "    rmse = np.sqrt(mean_squared_error(true, predicted))\n",
    "    r2_square = r2_score(true, predicted)\n",
    "    return mae, rmse, r2_square"
   ]
  },
  {
   "cell_type": "markdown",
   "id": "593b6e8c",
   "metadata": {},
   "source": [
    "#### 1.6 Model Training"
   ]
  },
  {
   "cell_type": "code",
   "execution_count": 11,
   "id": "79ccb8e7",
   "metadata": {
    "scrolled": false
   },
   "outputs": [
    {
     "name": "stdout",
     "output_type": "stream",
     "text": [
      "Linear Regression\n",
      "Model performance for Training set\n",
      "- Root Mean Squared Error: 12855.7685\n",
      "- Mean Absolute Error: 6708.8865\n",
      "- R2 Score: 0.9981\n",
      "----------------------------------\n",
      "Model performance for Test set\n",
      "- Root Mean Squared Error: 14659.2409\n",
      "- Mean Absolute Error: 7589.0328\n",
      "- R2 Score: 0.9965\n",
      "===================================\n",
      "\n",
      "\n",
      "Lasso\n",
      "Model performance for Training set\n",
      "- Root Mean Squared Error: 12855.7877\n",
      "- Mean Absolute Error: 6706.9699\n",
      "- R2 Score: 0.9981\n",
      "----------------------------------\n",
      "Model performance for Test set\n",
      "- Root Mean Squared Error: 14656.7978\n",
      "- Mean Absolute Error: 7586.0126\n",
      "- R2 Score: 0.9965\n",
      "===================================\n",
      "\n",
      "\n",
      "Ridge\n",
      "Model performance for Training set\n",
      "- Root Mean Squared Error: 12857.8195\n",
      "- Mean Absolute Error: 6698.7249\n",
      "- R2 Score: 0.9981\n",
      "----------------------------------\n",
      "Model performance for Test set\n",
      "- Root Mean Squared Error: 14652.2541\n",
      "- Mean Absolute Error: 7569.7772\n",
      "- R2 Score: 0.9965\n",
      "===================================\n",
      "\n",
      "\n",
      "K-Neighbors Regressor\n",
      "Model performance for Training set\n",
      "- Root Mean Squared Error: 21517.1754\n",
      "- Mean Absolute Error: 11031.0940\n",
      "- R2 Score: 0.9946\n",
      "----------------------------------\n",
      "Model performance for Test set\n",
      "- Root Mean Squared Error: 26422.3620\n",
      "- Mean Absolute Error: 16230.0464\n",
      "- R2 Score: 0.9885\n",
      "===================================\n",
      "\n",
      "\n",
      "Decision Tree\n",
      "Model performance for Training set\n",
      "- Root Mean Squared Error: 0.0000\n",
      "- Mean Absolute Error: 0.0000\n",
      "- R2 Score: 1.0000\n",
      "----------------------------------\n",
      "Model performance for Test set\n",
      "- Root Mean Squared Error: 34826.2311\n",
      "- Mean Absolute Error: 5662.3232\n",
      "- R2 Score: 0.9800\n",
      "===================================\n",
      "\n",
      "\n",
      "Random Forest Regressor\n",
      "Model performance for Training set\n",
      "- Root Mean Squared Error: 9504.9566\n",
      "- Mean Absolute Error: 1952.8585\n",
      "- R2 Score: 0.9990\n",
      "----------------------------------\n",
      "Model performance for Test set\n",
      "- Root Mean Squared Error: 21972.4104\n",
      "- Mean Absolute Error: 4754.4954\n",
      "- R2 Score: 0.9920\n",
      "===================================\n",
      "\n",
      "\n",
      "XGBRegressor\n",
      "Model performance for Training set\n",
      "- Root Mean Squared Error: 1129.3054\n",
      "- Mean Absolute Error: 782.2838\n",
      "- R2 Score: 1.0000\n",
      "----------------------------------\n",
      "Model performance for Test set\n",
      "- Root Mean Squared Error: 18417.7858\n",
      "- Mean Absolute Error: 4732.9800\n",
      "- R2 Score: 0.9944\n",
      "===================================\n",
      "\n",
      "\n",
      "CatBoosting Regressor\n",
      "Model performance for Training set\n",
      "- Root Mean Squared Error: 3149.1308\n",
      "- Mean Absolute Error: 2039.6142\n",
      "- R2 Score: 0.9999\n",
      "----------------------------------\n",
      "Model performance for Test set\n",
      "- Root Mean Squared Error: 21528.5185\n",
      "- Mean Absolute Error: 5086.2332\n",
      "- R2 Score: 0.9924\n",
      "===================================\n",
      "\n",
      "\n",
      "AdaBoost Regressor\n",
      "Model performance for Training set\n",
      "- Root Mean Squared Error: 78157.2319\n",
      "- Mean Absolute Error: 71648.3365\n",
      "- R2 Score: 0.9294\n",
      "----------------------------------\n",
      "Model performance for Test set\n",
      "- Root Mean Squared Error: 81252.8831\n",
      "- Mean Absolute Error: 72999.6359\n",
      "- R2 Score: 0.8912\n",
      "===================================\n",
      "\n",
      "\n"
     ]
    }
   ],
   "source": [
    "models = {\n",
    "    \"Linear Regression\": LinearRegression(),\n",
    "    \"Lasso\": Lasso(),\n",
    "    \"Ridge\": Ridge(),\n",
    "    \"K-Neighbors Regressor\": KNeighborsRegressor(),\n",
    "    \"Decision Tree\": DecisionTreeRegressor(),\n",
    "    \"Random Forest Regressor\": RandomForestRegressor(),\n",
    "    \"XGBRegressor\": XGBRegressor(), \n",
    "    \"CatBoosting Regressor\": CatBoostRegressor(verbose=False),\n",
    "    \"AdaBoost Regressor\": AdaBoostRegressor()\n",
    "}\n",
    "model_list = []\n",
    "r2_list =[]\n",
    "\n",
    "for i in range(len(list(models))):\n",
    "    model = list(models.values())[i]\n",
    "    model.fit(X_train, y_train) # Train model\n",
    "\n",
    "    # Make predictions\n",
    "    y_train_pred = model.predict(X_train)\n",
    "    y_test_pred = model.predict(X_test)\n",
    "    \n",
    "    # Evaluate Train and Test dataset\n",
    "    model_train_mae , model_train_rmse, model_train_r2 = evaluate_model(y_train, y_train_pred)\n",
    "\n",
    "    model_test_mae , model_test_rmse, model_test_r2 = evaluate_model(y_test, y_test_pred)\n",
    "\n",
    "    \n",
    "    print(list(models.keys())[i])\n",
    "    model_list.append(list(models.keys())[i])\n",
    "    \n",
    "    print('Model performance for Training set')\n",
    "    print(\"- Root Mean Squared Error: {:.4f}\".format(model_train_rmse))\n",
    "    print(\"- Mean Absolute Error: {:.4f}\".format(model_train_mae))\n",
    "    print(\"- R2 Score: {:.4f}\".format(model_train_r2))\n",
    "\n",
    "    print('----------------------------------')\n",
    "    \n",
    "    print('Model performance for Test set')\n",
    "    print(\"- Root Mean Squared Error: {:.4f}\".format(model_test_rmse))\n",
    "    print(\"- Mean Absolute Error: {:.4f}\".format(model_test_mae))\n",
    "    print(\"- R2 Score: {:.4f}\".format(model_test_r2))\n",
    "    r2_list.append(model_test_r2)\n",
    "    \n",
    "    print('='*35)\n",
    "    print('\\n')"
   ]
  },
  {
   "cell_type": "markdown",
   "id": "06480b5a",
   "metadata": {},
   "source": [
    "#### 1.7 Results"
   ]
  },
  {
   "cell_type": "code",
   "execution_count": 12,
   "id": "e0159e5f",
   "metadata": {},
   "outputs": [
    {
     "data": {
      "text/html": [
       "<div>\n",
       "<style scoped>\n",
       "    .dataframe tbody tr th:only-of-type {\n",
       "        vertical-align: middle;\n",
       "    }\n",
       "\n",
       "    .dataframe tbody tr th {\n",
       "        vertical-align: top;\n",
       "    }\n",
       "\n",
       "    .dataframe thead th {\n",
       "        text-align: right;\n",
       "    }\n",
       "</style>\n",
       "<table border=\"1\" class=\"dataframe\">\n",
       "  <thead>\n",
       "    <tr style=\"text-align: right;\">\n",
       "      <th></th>\n",
       "      <th>Model Name</th>\n",
       "      <th>R2_Score</th>\n",
       "    </tr>\n",
       "  </thead>\n",
       "  <tbody>\n",
       "    <tr>\n",
       "      <th>0</th>\n",
       "      <td>Ridge</td>\n",
       "      <td>0.996462</td>\n",
       "    </tr>\n",
       "    <tr>\n",
       "      <th>1</th>\n",
       "      <td>Lasso</td>\n",
       "      <td>0.996460</td>\n",
       "    </tr>\n",
       "    <tr>\n",
       "      <th>2</th>\n",
       "      <td>Linear Regression</td>\n",
       "      <td>0.996458</td>\n",
       "    </tr>\n",
       "    <tr>\n",
       "      <th>3</th>\n",
       "      <td>XGBRegressor</td>\n",
       "      <td>0.994410</td>\n",
       "    </tr>\n",
       "    <tr>\n",
       "      <th>4</th>\n",
       "      <td>CatBoosting Regressor</td>\n",
       "      <td>0.992362</td>\n",
       "    </tr>\n",
       "    <tr>\n",
       "      <th>5</th>\n",
       "      <td>Random Forest Regressor</td>\n",
       "      <td>0.992043</td>\n",
       "    </tr>\n",
       "    <tr>\n",
       "      <th>6</th>\n",
       "      <td>K-Neighbors Regressor</td>\n",
       "      <td>0.988494</td>\n",
       "    </tr>\n",
       "    <tr>\n",
       "      <th>7</th>\n",
       "      <td>Decision Tree</td>\n",
       "      <td>0.980011</td>\n",
       "    </tr>\n",
       "    <tr>\n",
       "      <th>8</th>\n",
       "      <td>AdaBoost Regressor</td>\n",
       "      <td>0.891194</td>\n",
       "    </tr>\n",
       "  </tbody>\n",
       "</table>\n",
       "</div>"
      ],
      "text/plain": [
       "                Model Name  R2_Score\n",
       "0                    Ridge  0.996462\n",
       "1                    Lasso  0.996460\n",
       "2        Linear Regression  0.996458\n",
       "3             XGBRegressor  0.994410\n",
       "4    CatBoosting Regressor  0.992362\n",
       "5  Random Forest Regressor  0.992043\n",
       "6    K-Neighbors Regressor  0.988494\n",
       "7            Decision Tree  0.980011\n",
       "8       AdaBoost Regressor  0.891194"
      ]
     },
     "execution_count": 12,
     "metadata": {},
     "output_type": "execute_result"
    }
   ],
   "source": [
    "results = pd.DataFrame(list(zip(model_list, r2_list)), columns=['Model Name', 'R2_Score']).sort_values(by=[\"R2_Score\"],ascending=False)\n",
    "results.reset_index(drop=True,inplace = True)\n",
    "results"
   ]
  },
  {
   "cell_type": "code",
   "execution_count": 13,
   "id": "13d1f79b",
   "metadata": {},
   "outputs": [],
   "source": [
    "results.to_csv('training_results.csv')"
   ]
  },
  {
   "cell_type": "markdown",
   "id": "394a54ca",
   "metadata": {},
   "source": [
    "``Since the data appears to be linearly separable and Linear Regression yields the highest R-squared score, we'll utilize it. Linear Regression, being a linear model, is computationally efficient, making it a suitable choice for our analysis.``"
   ]
  },
  {
   "cell_type": "markdown",
   "id": "357a7c1c",
   "metadata": {},
   "source": [
    "## Linear Regression"
   ]
  },
  {
   "cell_type": "code",
   "execution_count": 14,
   "id": "9a6ad559",
   "metadata": {},
   "outputs": [
    {
     "name": "stdout",
     "output_type": "stream",
     "text": [
      " Accuracy of the model is 99.65\n"
     ]
    }
   ],
   "source": [
    "lin_model = LinearRegression(fit_intercept=True)\n",
    "lin_model = lin_model.fit(X_train, y_train)\n",
    "y_pred = lin_model.predict(X_test)\n",
    "score = r2_score(y_test, y_pred)*100\n",
    "print(\" Accuracy of the model is %.2f\" %score)"
   ]
  },
  {
   "cell_type": "markdown",
   "id": "1d31453e",
   "metadata": {},
   "source": [
    "## Plot y_pred and y_test"
   ]
  },
  {
   "cell_type": "code",
   "execution_count": 15,
   "id": "eb557b0a",
   "metadata": {},
   "outputs": [
    {
     "data": {
      "image/png": "[encoded data removed]",
      "text/plain": [
       "<Figure size 640x480 with 1 Axes>"
      ]
     },
     "metadata": {},
     "output_type": "display_data"
    }
   ],
   "source": [
    "plt.scatter(y_test,y_pred);\n",
    "plt.xlabel('Actual');\n",
    "plt.ylabel('Predicted');"
   ]
  },
  {
   "cell_type": "code",
   "execution_count": 16,
   "id": "1e707ec3",
   "metadata": {},
   "outputs": [
    {
     "data": {
      "image/png": "[encoded data removed]",
      "text/plain": [
       "<Figure size 640x480 with 1 Axes>"
      ]
     },
     "metadata": {},
     "output_type": "display_data"
    }
   ],
   "source": [
    "sns.regplot(x=y_test,y=y_pred,ci=None,color ='red');"
   ]
  },
  {
   "cell_type": "markdown",
   "id": "bc626e7c",
   "metadata": {},
   "source": [
    "## Saving Model"
   ]
  },
  {
   "cell_type": "code",
   "execution_count": 17,
   "id": "3acf1fbc",
   "metadata": {},
   "outputs": [],
   "source": [
    "import pickle\n",
    "with open('linear_regression_model.p', 'wb') as file:\n",
    "    pickle.dump(lin_model, file)"
   ]
  },
  {
   "cell_type": "markdown",
   "id": "7b23051a",
   "metadata": {},
   "source": [
    "``Here, we preferred Linear Regression Model, because it's giving good performance as like others, though it is simple, interpretable, and computationally efficient.``"
   ]
  },
  {
   "cell_type": "code",
   "execution_count": null,
   "id": "a292ff98",
   "metadata": {},
   "outputs": [],
   "source": []
  },
  {
   "cell_type": "code",
   "execution_count": null,
   "id": "74d4c395",
   "metadata": {},
   "outputs": [],
   "source": []
  }
 ],
 "metadata": {
  "kernelspec": {
   "display_name": "Python 3 (ipykernel)",
   "language": "python",
   "name": "python3"
  },
  "language_info": {
   "codemirror_mode": {
    "name": "ipython",
    "version": 3
   },
   "file_extension": ".py",
   "mimetype": "text/x-python",
   "name": "python",
   "nbconvert_exporter": "python",
   "pygments_lexer": "ipython3",
   "version": "3.11.5"
  }
 },
 "nbformat": 4,
 "nbformat_minor": 5
}
